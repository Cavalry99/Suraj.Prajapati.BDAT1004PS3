{
 "cells": [
  {
   "cell_type": "code",
   "execution_count": 16,
   "id": "8994b95d",
   "metadata": {},
   "outputs": [],
   "source": [
    "import pandas as pd \n",
    "import matplotlib.pyplot as plt\n",
    "import numpy as np"
   ]
  },
  {
   "cell_type": "code",
   "execution_count": 17,
   "id": "f8614c60",
   "metadata": {},
   "outputs": [
    {
     "name": "stdout",
     "output_type": "stream",
     "text": [
      "     Year  Marriages  Divorces  Population  Marriages_per_1000  \\\n",
      "0    1867   357000.0   10000.0    36970000                 9.7   \n",
      "1    1868   345000.0   10000.0    37885000                 9.1   \n",
      "2    1869   348000.0   11000.0    38870000                 9.0   \n",
      "3    1870   352000.0   11000.0    39905000                 8.8   \n",
      "4    1871   359000.0   12000.0    41010000                 8.8   \n",
      "..    ...        ...       ...         ...                 ...   \n",
      "140  2007  2197000.0  856000.0   301696000                 7.3   \n",
      "141  2008  2157000.0  844000.0   304543000                 7.1   \n",
      "142  2009  2080000.0  840000.0   307240000                 6.8   \n",
      "143  2010  2096000.0  872000.0   309776000                 6.8   \n",
      "144  2011  2118000.0  877000.0   312034000                 6.8   \n",
      "\n",
      "     Divorces_per_1000  \n",
      "0                  0.3  \n",
      "1                  0.3  \n",
      "2                  0.3  \n",
      "3                  0.3  \n",
      "4                  0.3  \n",
      "..                 ...  \n",
      "140                2.8  \n",
      "141                2.8  \n",
      "142                2.7  \n",
      "143                2.8  \n",
      "144                2.8  \n",
      "\n",
      "[145 rows x 6 columns]\n"
     ]
    }
   ],
   "source": [
    "Marriage_Divorce_data = pd.read_csv(r\"C:\\\\Users\\\\sdp19\\\\OneDrive\\\\Desktop\\\\us-marriages-divorces-1867-2014.csv\", header=0, sep=\",\")\n",
    "print(Marriage_Divorce_data)"
   ]
  },
  {
   "cell_type": "code",
   "execution_count": 20,
   "id": "54bc2143",
   "metadata": {},
   "outputs": [
    {
     "name": "stdout",
     "output_type": "stream",
     "text": [
      "     Year  Marriages  Divorces  Population  Marriages_per_1000  \\\n",
      "33   1900   709000.0   56000.0    76094000                 9.3   \n",
      "83   1950  1667000.0  385000.0   151684000                11.0   \n",
      "133  2000  2315000.0  944000.0   282398000                 8.2   \n",
      "\n",
      "     Divorces_per_1000  \n",
      "33                 0.7  \n",
      "83                 2.5  \n",
      "133                3.3  \n"
     ]
    }
   ],
   "source": [
    "specific_year = Marriage_Divorce_data[(Marriage_Divorce_data[\"Year\"] == 1900) | (Marriage_Divorce_data[\"Year\"] == 1950) | (Marriage_Divorce_data[\"Year\"] == 2000)]\n",
    "print(specific_year)"
   ]
  },
  {
   "cell_type": "code",
   "execution_count": 21,
   "id": "343a6596",
   "metadata": {},
   "outputs": [
    {
     "data": {
      "image/png": "[encoded data removed]",
      "text/plain": [
       "<Figure size 432x288 with 1 Axes>"
      ]
     },
     "metadata": {
      "needs_background": "light"
     },
     "output_type": "display_data"
    }
   ],
   "source": [
    "y_marriage_data = np.array(specific_year.Marriages_per_1000)\n",
    "#print(x)\n",
    "y_divorce_data = np.array(specific_year.Divorces_per_1000)\n",
    "#print(y)\n",
    "x = np.array(specific_year.Year)\n",
    "#print(x)\n",
    "x_axis = np.arange(len(x))\n",
    "\n",
    "plt.bar(x_axis - 0.2, y_marriage_data, 0.4, label = 'Marriage per capita')\n",
    "plt.bar(x_axis + 0.2, y_divorce_data, 0.4, label = 'Divorce per capita')\n",
    "\n",
    "plt.xticks(x_axis, x)\n",
    "\n",
    "plt.xlabel(\"Years\")\n",
    "plt.ylabel(\"Marriage/Divorce per capita\")\n",
    "plt.title(\"Marriage/Divorce per capita bar graph\")\n",
    "plt.legend()\n",
    "plt.show()\n"
   ]
  },
  {
   "cell_type": "code",
   "execution_count": null,
   "id": "0b552a95",
   "metadata": {},
   "outputs": [],
   "source": []
  },
  {
   "cell_type": "code",
   "execution_count": null,
   "id": "dd7796ca",
   "metadata": {},
   "outputs": [],
   "source": []
  }
 ],
 "metadata": {
  "kernelspec": {
   "display_name": "Python 3",
   "language": "python",
   "name": "python3"
  },
  "language_info": {
   "codemirror_mode": {
    "name": "ipython",
    "version": 3
   },
   "file_extension": ".py",
   "mimetype": "text/x-python",
   "name": "python",
   "nbconvert_exporter": "python",
   "pygments_lexer": "ipython3",
   "version": "3.8.8"
  }
 },
 "nbformat": 4,
 "nbformat_minor": 5
}
