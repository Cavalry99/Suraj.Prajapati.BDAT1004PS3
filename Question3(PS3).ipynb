{
 "cells": [
  {
   "cell_type": "code",
   "execution_count": 89,
   "id": "7aee1c0b",
   "metadata": {},
   "outputs": [],
   "source": [
    "import pandas as pd\n",
    "import numpy as np"
   ]
  },
  {
   "cell_type": "code",
   "execution_count": 90,
   "id": "b8501e30",
   "metadata": {},
   "outputs": [],
   "source": [
    "#Step 2\n",
    "data1 = np.random.randint(1, 5, size=100)\n",
    "col1 = pd.Series(data1, name='col1')\n",
    "data2 = np.random.randint(1, 4, size=100)\n",
    "col2 = pd.Series(data2, name='col2')\n",
    "data3 = np.random.randint(10000, 30001, size=100)\n",
    "col3 = pd.Series(data3, name='col3')"
   ]
  },
  {
   "cell_type": "code",
   "execution_count": 91,
   "id": "c9519e65",
   "metadata": {},
   "outputs": [],
   "source": [
    "df=pd.concat([col1, col2, col3],axis=1)   #Step3"
   ]
  },
  {
   "cell_type": "code",
   "execution_count": 97,
   "id": "9030aa73",
   "metadata": {},
   "outputs": [],
   "source": [
    "df1 = df.rename(columns = {'col1':'bedrs', 'col2':'bathrs', 'col3':'price_sqr_meter'}, inplace = True)"
   ]
  },
  {
   "cell_type": "code",
   "execution_count": 101,
   "id": "f3c8bccd",
   "metadata": {},
   "outputs": [
    {
     "name": "stdout",
     "output_type": "stream",
     "text": [
      "   bedrs  bathrs  price_sqr_meter\n",
      "0      3       2            29610\n",
      "1      2       1            22788\n",
      "2      2       1            23891\n",
      "3      1       1            15122\n",
      "4      3       3            19089\n"
     ]
    }
   ],
   "source": [
    "print(df.head())    #Step4"
   ]
  },
  {
   "cell_type": "code",
   "execution_count": 116,
   "id": "d693f023",
   "metadata": {},
   "outputs": [
    {
     "name": "stdout",
     "output_type": "stream",
     "text": [
      "0         3\n",
      "1         2\n",
      "2         2\n",
      "3         1\n",
      "4         3\n",
      "      ...  \n",
      "95    14342\n",
      "96    26851\n",
      "97    28543\n",
      "98    14176\n",
      "99    17979\n",
      "Length: 300, dtype: int32\n"
     ]
    }
   ],
   "source": [
    "# df3 = df.bedrs.astype(str).str.cat(df.bathrs.astype(str)).str.cat(df.price_sqr_meter.astype(str))\n",
    "df3 = col1.append(col2)\n",
    "df3 = df3.append(col3)\n",
    "print(df3)"
   ]
  },
  {
   "cell_type": "code",
   "execution_count": 117,
   "id": "a0d28763",
   "metadata": {},
   "outputs": [],
   "source": [
    "df3.columns = ['bigcolumn']    #Step5"
   ]
  },
  {
   "cell_type": "code",
   "execution_count": 118,
   "id": "870867e2",
   "metadata": {},
   "outputs": [
    {
     "data": {
      "text/plain": [
       "0         3\n",
       "1         2\n",
       "2         2\n",
       "3         1\n",
       "4         3\n",
       "      ...  \n",
       "95    14342\n",
       "96    26851\n",
       "97    28543\n",
       "98    14176\n",
       "99    17979\n",
       "Length: 300, dtype: int32"
      ]
     },
     "execution_count": 118,
     "metadata": {},
     "output_type": "execute_result"
    }
   ],
   "source": [
    "df3 #Step6 "
   ]
  },
  {
   "cell_type": "code",
   "execution_count": 122,
   "id": "2290d945",
   "metadata": {},
   "outputs": [],
   "source": [
    "df3 = df3.reset_index(drop=True)   #Step7"
   ]
  },
  {
   "cell_type": "code",
   "execution_count": 123,
   "id": "776aa7d8",
   "metadata": {},
   "outputs": [
    {
     "data": {
      "text/plain": [
       "0          3\n",
       "1          2\n",
       "2          2\n",
       "3          1\n",
       "4          3\n",
       "       ...  \n",
       "295    14342\n",
       "296    26851\n",
       "297    28543\n",
       "298    14176\n",
       "299    17979\n",
       "Length: 300, dtype: int32"
      ]
     },
     "execution_count": 123,
     "metadata": {},
     "output_type": "execute_result"
    }
   ],
   "source": [
    "df3"
   ]
  }
 ],
 "metadata": {
  "kernelspec": {
   "display_name": "Python 3",
   "language": "python",
   "name": "python3"
  },
  "language_info": {
   "codemirror_mode": {
    "name": "ipython",
    "version": 3
   },
   "file_extension": ".py",
   "mimetype": "text/x-python",
   "name": "python",
   "nbconvert_exporter": "python",
   "pygments_lexer": "ipython3",
   "version": "3.8.8"
  }
 },
 "nbformat": 4,
 "nbformat_minor": 5
}
