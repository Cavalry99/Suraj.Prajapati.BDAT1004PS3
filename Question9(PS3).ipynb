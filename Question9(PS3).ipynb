{
 "cells": [
  {
   "cell_type": "code",
   "execution_count": 1,
   "id": "fe3c0fef-4f63-4a2d-a60f-45005376faf5",
   "metadata": {},
   "outputs": [],
   "source": [
    "import pandas as pd\n",
    "import matplotlib.pyplot as plt\n",
    "import numpy as np"
   ]
  },
  {
   "cell_type": "code",
   "execution_count": 2,
   "id": "5ec1b67f-5168-4682-826b-83498076f78b",
   "metadata": {},
   "outputs": [
    {
     "data": {
      "text/html": [
       "<div>\n",
       "<style scoped>\n",
       "    .dataframe tbody tr th:only-of-type {\n",
       "        vertical-align: middle;\n",
       "    }\n",
       "\n",
       "    .dataframe tbody tr th {\n",
       "        vertical-align: top;\n",
       "    }\n",
       "\n",
       "    .dataframe thead th {\n",
       "        text-align: right;\n",
       "    }\n",
       "</style>\n",
       "<table border=\"1\" class=\"dataframe\">\n",
       "  <thead>\n",
       "    <tr style=\"text-align: right;\">\n",
       "      <th></th>\n",
       "      <th>Emperor</th>\n",
       "      <th>Length_of_Reign</th>\n",
       "      <th>Cause_of_Death</th>\n",
       "    </tr>\n",
       "  </thead>\n",
       "  <tbody>\n",
       "    <tr>\n",
       "      <th>0</th>\n",
       "      <td>Augustus</td>\n",
       "      <td>40.58</td>\n",
       "      <td>Possibly assassinated</td>\n",
       "    </tr>\n",
       "    <tr>\n",
       "      <th>1</th>\n",
       "      <td>Tiberius</td>\n",
       "      <td>22.50</td>\n",
       "      <td>Possibly assassinated</td>\n",
       "    </tr>\n",
       "    <tr>\n",
       "      <th>2</th>\n",
       "      <td>Caligula</td>\n",
       "      <td>4.83</td>\n",
       "      <td>Assassinated</td>\n",
       "    </tr>\n",
       "    <tr>\n",
       "      <th>3</th>\n",
       "      <td>Claudius</td>\n",
       "      <td>13.75</td>\n",
       "      <td>Possibly assassinated</td>\n",
       "    </tr>\n",
       "    <tr>\n",
       "      <th>4</th>\n",
       "      <td>Nero</td>\n",
       "      <td>13.67</td>\n",
       "      <td>Suicide</td>\n",
       "    </tr>\n",
       "  </tbody>\n",
       "</table>\n",
       "</div>"
      ],
      "text/plain": [
       "    Emperor  Length_of_Reign         Cause_of_Death\n",
       "0  Augustus            40.58  Possibly assassinated\n",
       "1  Tiberius            22.50  Possibly assassinated\n",
       "2  Caligula             4.83           Assassinated\n",
       "3  Claudius            13.75  Possibly assassinated\n",
       "4      Nero            13.67                Suicide"
      ]
     },
     "execution_count": 2,
     "metadata": {},
     "output_type": "execute_result"
    }
   ],
   "source": [
    "Roman_Emperor = pd.read_csv(r\"C:\\\\Users\\\\sdp19\\\\OneDrive\\\\Desktop\\\\roman-emperor-reigns.csv\", header=0, sep=\",\")\n",
    "Roman_Emperor.head()"
   ]
  },
  {
   "cell_type": "code",
   "execution_count": 3,
   "id": "40d81c2e-5fb8-46da-9aaa-b945f409fa5f",
   "metadata": {},
   "outputs": [
    {
     "name": "stdout",
     "output_type": "stream",
     "text": [
      "               Emperor  Length_of_Reign Cause_of_Death\n",
      "2             Caligula             4.83   Assassinated\n",
      "5                Galba             0.58   Assassinated\n",
      "7            Vitellius             0.67   Assassinated\n",
      "10            Domitian            15.00   Assassinated\n",
      "17            Commodus            15.00   Assassinated\n",
      "18            Pertinax             0.25   Assassinated\n",
      "21           Caracalla            19.00   Assassinated\n",
      "22                Geta             3.00   Assassinated\n",
      "24          Elagabalus             3.75   Assassinated\n",
      "25   Severus Alexander            13.00   Assassinated\n",
      "26         Maximinus I             3.25   Assassinated\n",
      "29            Pupienus             0.25   Assassinated\n",
      "30            Balbinus             0.25   Assassinated\n",
      "35  Trebonianus Gallus             2.00   Assassinated\n",
      "36            Aemilian             0.16   Assassinated\n",
      "38           Gallienus            15.00   Assassinated\n",
      "41            Aurelian             5.00   Assassinated\n",
      "43             Florian             0.25   Assassinated\n",
      "44              Probus             6.00   Assassinated\n",
      "52          Severus II             1.00   Assassinated\n",
      "59          Constans I            13.00   Assassinated\n",
      "65             Gratian            16.00   Assassinated\n"
     ]
    }
   ],
   "source": [
    "Emperor_Assassinated = Roman_Emperor.query('Cause_of_Death == \"Assassinated\"')\n",
    "print(Emperor_Assassinated)"
   ]
  },
  {
   "cell_type": "code",
   "execution_count": 4,
   "id": "eda77c57-3d46-479c-994c-2112fe3efb85",
   "metadata": {},
   "outputs": [
    {
     "data": {
      "image/png": "[encoded data removed]",
      "text/plain": [
       "<Figure size 432x288 with 1 Axes>"
      ]
     },
     "metadata": {},
     "output_type": "display_data"
    }
   ],
   "source": [
    "x = np.array(Emperor_Assassinated.Length_of_Reign)\n",
    "#print(x)\n",
    "y = np.array(Emperor_Assassinated.Emperor)\n",
    "#print(y)\n",
    "plt.rcParams['font.size'] = 6.0\n",
    "plt.pie(x, labels = y,autopct='%1.1f%%')\n",
    "plt.axis('equal')\n",
    "plt.title(\"pie chart of the fraction of all Roman Emperors\")\n",
    "plt.show()"
   ]
  },
  {
   "cell_type": "code",
   "execution_count": null,
   "id": "e79a5e59-8ba7-4ebc-b7cb-955cf6b0c8cf",
   "metadata": {},
   "outputs": [],
   "source": []
  }
 ],
 "metadata": {
  "kernelspec": {
   "display_name": "Python 3",
   "language": "python",
   "name": "python3"
  },
  "language_info": {
   "codemirror_mode": {
    "name": "ipython",
    "version": 3
   },
   "file_extension": ".py",
   "mimetype": "text/x-python",
   "name": "python",
   "nbconvert_exporter": "python",
   "pygments_lexer": "ipython3",
   "version": "3.8.8"
  }
 },
 "nbformat": 4,
 "nbformat_minor": 5
}
