{
 "cells": [
  {
   "cell_type": "code",
   "execution_count": 1,
   "id": "984fc601",
   "metadata": {},
   "outputs": [],
   "source": [
    "import pandas as pd"
   ]
  },
  {
   "cell_type": "code",
   "execution_count": 2,
   "id": "f31d3d8b",
   "metadata": {},
   "outputs": [],
   "source": [
    "chipo = pd.read_csv(r\"C:\\\\Users\\\\sdp19\\\\OneDrive\\\\Desktop\\\\chipotle.tsv\", sep='\\t')  #Step3"
   ]
  },
  {
   "cell_type": "code",
   "execution_count": 3,
   "id": "ceae25a7",
   "metadata": {},
   "outputs": [
    {
     "data": {
      "text/html": [
       "<div>\n",
       "<style scoped>\n",
       "    .dataframe tbody tr th:only-of-type {\n",
       "        vertical-align: middle;\n",
       "    }\n",
       "\n",
       "    .dataframe tbody tr th {\n",
       "        vertical-align: top;\n",
       "    }\n",
       "\n",
       "    .dataframe thead th {\n",
       "        text-align: right;\n",
       "    }\n",
       "</style>\n",
       "<table border=\"1\" class=\"dataframe\">\n",
       "  <thead>\n",
       "    <tr style=\"text-align: right;\">\n",
       "      <th></th>\n",
       "      <th>order_id</th>\n",
       "      <th>quantity</th>\n",
       "      <th>item_name</th>\n",
       "      <th>choice_description</th>\n",
       "      <th>item_price</th>\n",
       "    </tr>\n",
       "  </thead>\n",
       "  <tbody>\n",
       "    <tr>\n",
       "      <th>0</th>\n",
       "      <td>1</td>\n",
       "      <td>1</td>\n",
       "      <td>Chips and Fresh Tomato Salsa</td>\n",
       "      <td>NaN</td>\n",
       "      <td>$2.39</td>\n",
       "    </tr>\n",
       "    <tr>\n",
       "      <th>1</th>\n",
       "      <td>1</td>\n",
       "      <td>1</td>\n",
       "      <td>Izze</td>\n",
       "      <td>[Clementine]</td>\n",
       "      <td>$3.39</td>\n",
       "    </tr>\n",
       "    <tr>\n",
       "      <th>2</th>\n",
       "      <td>1</td>\n",
       "      <td>1</td>\n",
       "      <td>Nantucket Nectar</td>\n",
       "      <td>[Apple]</td>\n",
       "      <td>$3.39</td>\n",
       "    </tr>\n",
       "    <tr>\n",
       "      <th>3</th>\n",
       "      <td>1</td>\n",
       "      <td>1</td>\n",
       "      <td>Chips and Tomatillo-Green Chili Salsa</td>\n",
       "      <td>NaN</td>\n",
       "      <td>$2.39</td>\n",
       "    </tr>\n",
       "    <tr>\n",
       "      <th>4</th>\n",
       "      <td>2</td>\n",
       "      <td>2</td>\n",
       "      <td>Chicken Bowl</td>\n",
       "      <td>[Tomatillo-Red Chili Salsa (Hot), [Black Beans...</td>\n",
       "      <td>$16.98</td>\n",
       "    </tr>\n",
       "    <tr>\n",
       "      <th>5</th>\n",
       "      <td>3</td>\n",
       "      <td>1</td>\n",
       "      <td>Chicken Bowl</td>\n",
       "      <td>[Fresh Tomato Salsa (Mild), [Rice, Cheese, Sou...</td>\n",
       "      <td>$10.98</td>\n",
       "    </tr>\n",
       "    <tr>\n",
       "      <th>6</th>\n",
       "      <td>3</td>\n",
       "      <td>1</td>\n",
       "      <td>Side of Chips</td>\n",
       "      <td>NaN</td>\n",
       "      <td>$1.69</td>\n",
       "    </tr>\n",
       "    <tr>\n",
       "      <th>7</th>\n",
       "      <td>4</td>\n",
       "      <td>1</td>\n",
       "      <td>Steak Burrito</td>\n",
       "      <td>[Tomatillo Red Chili Salsa, [Fajita Vegetables...</td>\n",
       "      <td>$11.75</td>\n",
       "    </tr>\n",
       "    <tr>\n",
       "      <th>8</th>\n",
       "      <td>4</td>\n",
       "      <td>1</td>\n",
       "      <td>Steak Soft Tacos</td>\n",
       "      <td>[Tomatillo Green Chili Salsa, [Pinto Beans, Ch...</td>\n",
       "      <td>$9.25</td>\n",
       "    </tr>\n",
       "    <tr>\n",
       "      <th>9</th>\n",
       "      <td>5</td>\n",
       "      <td>1</td>\n",
       "      <td>Steak Burrito</td>\n",
       "      <td>[Fresh Tomato Salsa, [Rice, Black Beans, Pinto...</td>\n",
       "      <td>$9.25</td>\n",
       "    </tr>\n",
       "  </tbody>\n",
       "</table>\n",
       "</div>"
      ],
      "text/plain": [
       "   order_id  quantity                              item_name  \\\n",
       "0         1         1           Chips and Fresh Tomato Salsa   \n",
       "1         1         1                                   Izze   \n",
       "2         1         1                       Nantucket Nectar   \n",
       "3         1         1  Chips and Tomatillo-Green Chili Salsa   \n",
       "4         2         2                           Chicken Bowl   \n",
       "5         3         1                           Chicken Bowl   \n",
       "6         3         1                          Side of Chips   \n",
       "7         4         1                          Steak Burrito   \n",
       "8         4         1                       Steak Soft Tacos   \n",
       "9         5         1                          Steak Burrito   \n",
       "\n",
       "                                  choice_description item_price  \n",
       "0                                                NaN     $2.39   \n",
       "1                                       [Clementine]     $3.39   \n",
       "2                                            [Apple]     $3.39   \n",
       "3                                                NaN     $2.39   \n",
       "4  [Tomatillo-Red Chili Salsa (Hot), [Black Beans...    $16.98   \n",
       "5  [Fresh Tomato Salsa (Mild), [Rice, Cheese, Sou...    $10.98   \n",
       "6                                                NaN     $1.69   \n",
       "7  [Tomatillo Red Chili Salsa, [Fajita Vegetables...    $11.75   \n",
       "8  [Tomatillo Green Chili Salsa, [Pinto Beans, Ch...     $9.25   \n",
       "9  [Fresh Tomato Salsa, [Rice, Black Beans, Pinto...     $9.25   "
      ]
     },
     "execution_count": 3,
     "metadata": {},
     "output_type": "execute_result"
    }
   ],
   "source": [
    "chipo.head(10) #Step4"
   ]
  },
  {
   "cell_type": "code",
   "execution_count": 4,
   "id": "3ec4b5a7",
   "metadata": {},
   "outputs": [
    {
     "name": "stdout",
     "output_type": "stream",
     "text": [
      "Number of observation is: 4622\n"
     ]
    }
   ],
   "source": [
    "print(\"Number of observation is:\", len(chipo))   #Step5"
   ]
  },
  {
   "cell_type": "code",
   "execution_count": 5,
   "id": "3965949f",
   "metadata": {},
   "outputs": [
    {
     "name": "stdout",
     "output_type": "stream",
     "text": [
      "The number of column in the dataset is: 5\n"
     ]
    }
   ],
   "source": [
    "print(\"The number of column in the dataset is:\", len(chipo.columns)) #Step6"
   ]
  },
  {
   "cell_type": "code",
   "execution_count": 6,
   "id": "9d08d469",
   "metadata": {},
   "outputs": [
    {
     "name": "stdout",
     "output_type": "stream",
     "text": [
      "Column names:  ['order_id' 'quantity' 'item_name' 'choice_description' 'item_price']\n"
     ]
    }
   ],
   "source": [
    "print(\"Column names: \", chipo.columns.values)    #Step7"
   ]
  },
  {
   "cell_type": "code",
   "execution_count": 7,
   "id": "15139111",
   "metadata": {},
   "outputs": [
    {
     "data": {
      "text/plain": [
       "RangeIndex(start=0, stop=4622, step=1)"
      ]
     },
     "execution_count": 7,
     "metadata": {},
     "output_type": "execute_result"
    }
   ],
   "source": [
    "chipo.index    #Step8"
   ]
  },
  {
   "cell_type": "code",
   "execution_count": 8,
   "id": "684e4380",
   "metadata": {},
   "outputs": [],
   "source": [
    "most_ordr_item = chipo.groupby(['item_name'])['item_name'].agg(['count']).sort_values(by='count', ascending=False).reset_index()"
   ]
  },
  {
   "cell_type": "code",
   "execution_count": 9,
   "id": "d918ad91",
   "metadata": {},
   "outputs": [
    {
     "name": "stdout",
     "output_type": "stream",
     "text": [
      "The most ordered item is: Chicken Bowl\n"
     ]
    }
   ],
   "source": [
    "print(\"The most ordered item is:\", most_ordr_item.loc[0][0])   #Step9"
   ]
  },
  {
   "cell_type": "code",
   "execution_count": 10,
   "id": "d48804db",
   "metadata": {},
   "outputs": [
    {
     "data": {
      "text/plain": [
       "item_name    Chicken Bowl\n",
       "count                 726\n",
       "Name: 0, dtype: object"
      ]
     },
     "execution_count": 10,
     "metadata": {},
     "output_type": "execute_result"
    }
   ],
   "source": [
    "most_ordr_item.loc[0]   #Step10"
   ]
  },
  {
   "cell_type": "code",
   "execution_count": 11,
   "id": "0dcaf66b",
   "metadata": {},
   "outputs": [],
   "source": [
    "most_item_in_choice_desc = chipo.groupby(['choice_description'])['choice_description'].agg(['count']).sort_values(by='count', ascending=False).reset_index()"
   ]
  },
  {
   "cell_type": "code",
   "execution_count": 12,
   "id": "fa0e229e",
   "metadata": {},
   "outputs": [
    {
     "name": "stdout",
     "output_type": "stream",
     "text": [
      "The most ordered item in the choice_description column: choice_description    [Diet Coke]\n",
      "count                         134\n",
      "Name: 0, dtype: object\n"
     ]
    }
   ],
   "source": [
    "print(\"The most ordered item in the choice_description column:\", most_item_in_choice_desc.loc[0]) #Step11"
   ]
  },
  {
   "cell_type": "code",
   "execution_count": 13,
   "id": "35139776",
   "metadata": {},
   "outputs": [
    {
     "name": "stdout",
     "output_type": "stream",
     "text": [
      "Items were orderd in total: 4622\n"
     ]
    }
   ],
   "source": [
    "print(\"Items were orderd in total:\", most_ordr_item['count'].sum())  #Step12"
   ]
  },
  {
   "cell_type": "code",
   "execution_count": 14,
   "id": "c31afc62",
   "metadata": {},
   "outputs": [
    {
     "name": "stdout",
     "output_type": "stream",
     "text": [
      "0        2.39\n",
      "1        3.39\n",
      "2        3.39\n",
      "3        2.39\n",
      "4       16.98\n",
      "        ...  \n",
      "4617    11.75\n",
      "4618    11.75\n",
      "4619    11.25\n",
      "4620     8.75\n",
      "4621     8.75\n",
      "Name: item_price, Length: 4622, dtype: float64\n"
     ]
    }
   ],
   "source": [
    "price_in_float = chipo.copy()\n",
    "price_in_float['item_price']  = chipo['item_price'].str.replace(\"$\",\"\", regex=True).astype(float)    #Step13.1\n",
    "print(price_in_float['item_price'])   #Step13.2"
   ]
  },
  {
   "cell_type": "code",
   "execution_count": 15,
   "id": "f45a58b8",
   "metadata": {},
   "outputs": [],
   "source": [
    "lambda_df = chipo.copy()\n",
    "lambda_df['item_price'] = chipo['item_price'].apply(lambda x: float(x.replace(\"$\",\"\")))   #Step13.3"
   ]
  },
  {
   "cell_type": "code",
   "execution_count": 16,
   "id": "6630141d",
   "metadata": {},
   "outputs": [
    {
     "name": "stdout",
     "output_type": "stream",
     "text": [
      "0        2.39\n",
      "1        3.39\n",
      "2        3.39\n",
      "3        2.39\n",
      "4       16.98\n",
      "        ...  \n",
      "4617    11.75\n",
      "4618    11.75\n",
      "4619    11.25\n",
      "4620     8.75\n",
      "4621     8.75\n",
      "Name: item_price, Length: 4622, dtype: float64\n"
     ]
    }
   ],
   "source": [
    "print(lambda_df['item_price'])   #Step13.4"
   ]
  },
  {
   "cell_type": "code",
   "execution_count": 17,
   "id": "e02e89ba",
   "metadata": {},
   "outputs": [
    {
     "name": "stdout",
     "output_type": "stream",
     "text": [
      "Total revenue is:  39237.02\n"
     ]
    }
   ],
   "source": [
    "print(\"Total revenue is: \", (lambda_df['item_price'] * lambda_df['quantity']).sum())    #Step14"
   ]
  },
  {
   "cell_type": "code",
   "execution_count": 18,
   "id": "63cedeec",
   "metadata": {},
   "outputs": [
    {
     "name": "stdout",
     "output_type": "stream",
     "text": [
      "Total order given is: 4972\n"
     ]
    }
   ],
   "source": [
    "print(\"Total order given is:\", lambda_df['quantity'].sum())    #Step15"
   ]
  },
  {
   "cell_type": "code",
   "execution_count": 19,
   "id": "3f6f6434",
   "metadata": {},
   "outputs": [
    {
     "name": "stdout",
     "output_type": "stream",
     "text": [
      "Average revenue per order is:  8.489186499350943\n"
     ]
    }
   ],
   "source": [
    "print(\"Average revenue per order is: \", (lambda_df['item_price'] * lambda_df['quantity']).mean())    #Step16"
   ]
  },
  {
   "cell_type": "code",
   "execution_count": 20,
   "id": "53ca8bcb",
   "metadata": {},
   "outputs": [
    {
     "name": "stdout",
     "output_type": "stream",
     "text": [
      "Ther were 50 different item sold\n"
     ]
    }
   ],
   "source": [
    "print(\"Ther were\", most_ordr_item.count()[0] ,\"different item sold\")  #Step17"
   ]
  },
  {
   "cell_type": "code",
   "execution_count": null,
   "id": "4d00bff8",
   "metadata": {},
   "outputs": [],
   "source": []
  },
  {
   "cell_type": "code",
   "execution_count": null,
   "id": "3f007ac3",
   "metadata": {},
   "outputs": [],
   "source": []
  }
 ],
 "metadata": {
  "kernelspec": {
   "display_name": "Python 3",
   "language": "python",
   "name": "python3"
  },
  "language_info": {
   "codemirror_mode": {
    "name": "ipython",
    "version": 3
   },
   "file_extension": ".py",
   "mimetype": "text/x-python",
   "name": "python",
   "nbconvert_exporter": "python",
   "pygments_lexer": "ipython3",
   "version": "3.8.8"
  }
 },
 "nbformat": 4,
 "nbformat_minor": 5
}
