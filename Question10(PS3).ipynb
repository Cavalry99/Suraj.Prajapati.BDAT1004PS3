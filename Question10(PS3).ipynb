{
 "cells": [
  {
   "cell_type": "code",
   "execution_count": 1,
   "id": "5e5dcf29-bd82-4945-90fb-2693cc2730a4",
   "metadata": {},
   "outputs": [],
   "source": [
    "import pandas as pd\n",
    "import matplotlib.pyplot as plt\n",
    "import numpy as np"
   ]
  },
  {
   "cell_type": "code",
   "execution_count": 2,
   "id": "69a2ed30-d48f-4fca-9133-27c0c7906140",
   "metadata": {},
   "outputs": [
    {
     "name": "stdout",
     "output_type": "stream",
     "text": [
      "   Year  Total Arcade Revenue (billions)  \\\n",
      "0  2000                            1.196   \n",
      "1  2001                            1.176   \n",
      "2  2002                            1.269   \n",
      "3  2003                            1.240   \n",
      "4  2004                            1.307   \n",
      "5  2005                            1.435   \n",
      "6  2006                            1.601   \n",
      "7  2007                            1.654   \n",
      "8  2008                            1.803   \n",
      "9  2009                            1.734   \n",
      "\n",
      "   Computer Science Doctorates Awarded (US)  \n",
      "0                                       861  \n",
      "1                                       830  \n",
      "2                                       809  \n",
      "3                                       867  \n",
      "4                                       948  \n",
      "5                                      1129  \n",
      "6                                      1453  \n",
      "7                                      1656  \n",
      "8                                      1787  \n",
      "9                                      1611  \n"
     ]
    }
   ],
   "source": [
    "Relationship = pd.read_csv(r\"C:\\\\Users\\\\sdp19\\\\OneDrive\\\\Desktop\\\\arcade-revenue-vs-cs-doctorates.csv\", header=0, sep=\",\")\n",
    "print(Relationship)"
   ]
  },
  {
   "cell_type": "code",
   "execution_count": 3,
   "id": "fd844369-c324-442f-a08f-c2ce739a67f7",
   "metadata": {},
   "outputs": [
    {
     "name": "stdout",
     "output_type": "stream",
     "text": [
      "[1.196 1.176 1.269 1.24  1.307 1.435 1.601 1.654 1.803 1.734]\n",
      "[ 861  830  809  867  948 1129 1453 1656 1787 1611]\n",
      "[2000 2001 2002 2003 2004 2005 2006 2007 2008 2009]\n"
     ]
    }
   ],
   "source": [
    "R = np.array(Relationship[\"Total Arcade Revenue (billions)\"])\n",
    "print(R)\n",
    "C = np.array(Relationship[\"Computer Science Doctorates Awarded (US)\"])\n",
    "print(C)\n",
    "Y = np.array(Relationship.Year)\n",
    "print(Y)"
   ]
  },
  {
   "cell_type": "code",
   "execution_count": 4,
   "id": "6c788f06-e315-47c5-ae62-b064b461c860",
   "metadata": {},
   "outputs": [
    {
     "name": "stdout",
     "output_type": "stream",
     "text": [
      "['red' 'green' 'blue' 'yellow' 'pink' 'black' 'orange' 'purple' 'beige'\n",
      " 'brown']\n"
     ]
    },
    {
     "data": {
      "image/png": "[encoded data removed]",
      "text/plain": [
       "<Figure size 432x288 with 1 Axes>"
      ]
     },
     "metadata": {
      "needs_background": "light"
     },
     "output_type": "display_data"
    }
   ],
   "source": [
    "colors = np.array([\"red\",\"green\",\"blue\",\"yellow\",\"pink\",\"black\",\"orange\",\"purple\",\"beige\",\"brown\"])\n",
    "print(colors)\n",
    "\n",
    "plt.xlabel(\"Average Pulse\")\n",
    "plt.ylabel(\"Calorie Burnage\")\n",
    "\n",
    "plt.scatter(Y,R, c=colors)\n",
    "plt.scatter(Y,C, c=colors)\n",
    "plt.title(\"Scatter plot of relationship between the total revenue earned\")\n",
    "\n",
    "plt.show()"
   ]
  },
  {
   "cell_type": "code",
   "execution_count": null,
   "id": "0572c0c0-d7f7-46df-bad1-4e2fb4538426",
   "metadata": {},
   "outputs": [],
   "source": []
  }
 ],
 "metadata": {
  "kernelspec": {
   "display_name": "Python 3",
   "language": "python",
   "name": "python3"
  },
  "language_info": {
   "codemirror_mode": {
    "name": "ipython",
    "version": 3
   },
   "file_extension": ".py",
   "mimetype": "text/x-python",
   "name": "python",
   "nbconvert_exporter": "python",
   "pygments_lexer": "ipython3",
   "version": "3.8.8"
  }
 },
 "nbformat": 4,
 "nbformat_minor": 5
}
